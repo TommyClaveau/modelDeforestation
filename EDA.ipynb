{
  "cells": [
    {
      "cell_type": "markdown",
      "metadata": {
        "id": "view-in-github",
        "colab_type": "text"
      },
      "source": [
        "<a href=\"https://colab.research.google.com/github/TommyClaveau/modelDeforestation/blob/main/EDA.ipynb\" target=\"_parent\"><img src=\"https://colab.research.google.com/assets/colab-badge.svg\" alt=\"Open In Colab\"/></a>"
      ]
    },
    {
      "cell_type": "markdown",
      "metadata": {
        "id": "Mebiy4BnapKf"
      },
      "source": [
        "<a href=\"https://githubtocolab.com/BioWar/Satellite-Image-Segmentation-using-Deep-Learning-for-Deforestation-Detection/blob/main/EDA.ipynb\" target=\"_parent\"><img src=\"https://colab.research.google.com/assets/colab-badge.svg\" alt=\"Open in Colab\"/></a>"
      ]
    },
    {
      "cell_type": "markdown",
      "metadata": {
        "id": "ZI9aBwPmklO_"
      },
      "source": [
        "# Dataset Analysis"
      ]
    },
    {
      "cell_type": "code",
      "execution_count": 24,
      "metadata": {
        "colab": {
          "base_uri": "https://localhost:8080/"
        },
        "id": "Bwf_KCRaklPF",
        "outputId": "6539ec32-2fc9-474d-b998-3ca825e66131"
      },
      "outputs": [
        {
          "output_type": "stream",
          "name": "stdout",
          "text": [
            "Requirement already satisfied: selenium in /usr/local/lib/python3.12/dist-packages (4.37.0)\n",
            "Requirement already satisfied: urllib3<3.0,>=2.5.0 in /usr/local/lib/python3.12/dist-packages (from urllib3[socks]<3.0,>=2.5.0->selenium) (2.5.0)\n",
            "Requirement already satisfied: trio<1.0,>=0.31.0 in /usr/local/lib/python3.12/dist-packages (from selenium) (0.31.0)\n",
            "Requirement already satisfied: trio-websocket<1.0,>=0.12.2 in /usr/local/lib/python3.12/dist-packages (from selenium) (0.12.2)\n",
            "Requirement already satisfied: certifi>=2025.10.5 in /usr/local/lib/python3.12/dist-packages (from selenium) (2025.10.5)\n",
            "Requirement already satisfied: typing_extensions<5.0,>=4.15.0 in /usr/local/lib/python3.12/dist-packages (from selenium) (4.15.0)\n",
            "Requirement already satisfied: websocket-client<2.0,>=1.8.0 in /usr/local/lib/python3.12/dist-packages (from selenium) (1.9.0)\n",
            "Requirement already satisfied: attrs>=23.2.0 in /usr/local/lib/python3.12/dist-packages (from trio<1.0,>=0.31.0->selenium) (25.4.0)\n",
            "Requirement already satisfied: sortedcontainers in /usr/local/lib/python3.12/dist-packages (from trio<1.0,>=0.31.0->selenium) (2.4.0)\n",
            "Requirement already satisfied: idna in /usr/local/lib/python3.12/dist-packages (from trio<1.0,>=0.31.0->selenium) (3.11)\n",
            "Requirement already satisfied: outcome in /usr/local/lib/python3.12/dist-packages (from trio<1.0,>=0.31.0->selenium) (1.3.0.post0)\n",
            "Requirement already satisfied: sniffio>=1.3.0 in /usr/local/lib/python3.12/dist-packages (from trio<1.0,>=0.31.0->selenium) (1.3.1)\n",
            "Requirement already satisfied: wsproto>=0.14 in /usr/local/lib/python3.12/dist-packages (from trio-websocket<1.0,>=0.12.2->selenium) (1.2.0)\n",
            "Requirement already satisfied: pysocks!=1.5.7,<2.0,>=1.5.6 in /usr/local/lib/python3.12/dist-packages (from urllib3[socks]<3.0,>=2.5.0->selenium) (1.7.1)\n",
            "Requirement already satisfied: h11<1,>=0.9.0 in /usr/local/lib/python3.12/dist-packages (from wsproto>=0.14->trio-websocket<1.0,>=0.12.2->selenium) (0.16.0)\n",
            "Drive already mounted at /content/gdrive; to attempt to forcibly remount, call drive.mount(\"/content/gdrive\", force_remount=True).\n"
          ]
        }
      ],
      "source": [
        "import numpy as np\n",
        "import pandas as pd\n",
        "from google.colab import drive\n",
        "!pip install selenium\n",
        "\n",
        "drive.mount(\"/content/gdrive\")"
      ]
    },
    {
      "cell_type": "code",
      "execution_count": 25,
      "metadata": {
        "id": "L31qKZWtklPG"
      },
      "outputs": [],
      "source": [
        "# X_name, Y_name = \"X__balanced.npy\", \"Y__balanced.npy\"\n",
        "# X, Y = np.load(X_name), np.load(Y_name)\n",
        "# print(f\"[INFO] X.shape = {X.shape}, Y.shape = {Y.shape}\")"
      ]
    },
    {
      "cell_type": "code",
      "execution_count": 26,
      "metadata": {
        "id": "IECCLgNOklPI"
      },
      "outputs": [],
      "source": [
        "from PIL import Image\n",
        "import os\n",
        "import matplotlib\n",
        "import matplotlib.pyplot as plt\n",
        "import numpy as np\n",
        "import pandas as pd\n",
        "\n",
        "def load_raw_images(y_path):\n",
        "    Y = []\n",
        "    for filename in os.listdir(y_path):\n",
        "        if filename.endswith(\"png\"):\n",
        "            Y.append(filename)\n",
        "    return Y\n",
        "\n",
        "def load_test_images(path):\n",
        "    images = load_raw_images(path)\n",
        "    np_images = []\n",
        "    for image in images:\n",
        "        im_x = Image.open(f\"{path}/{image}\")\n",
        "        im_x_np = np.asarray(im_x, dtype=\"float32\") / 255.0\n",
        "        np_images.append(im_x_np)\n",
        "    return np_images\n",
        "\n",
        "def count_pixels(image):\n",
        "    red, green, blue = (226, 19, 15), (11, 195, 72), (51, 15, 200)\n",
        "    colors = {\"red\": 0, \"green\": 0, \"blue\": 0}\n",
        "    for i in range(image.shape[0]):\n",
        "        for j in range(image.shape[1]):\n",
        "            pixel = image[i][j]\n",
        "            pixel = np.round(pixel*255).astype('int32')\n",
        "            if (pixel == red).all():\n",
        "                colors[\"red\"] += 1\n",
        "            elif (pixel == blue).all():\n",
        "                colors[\"blue\"] += 1\n",
        "            elif (pixel == green).all():\n",
        "                colors[\"green\"] += 1\n",
        "    return colors\n",
        "\n",
        "def get_pixel_data(Y):\n",
        "    quantity = Y.shape[0]\n",
        "    print(f\"[INFO] Get pixels from {quantity} images.\")\n",
        "    colors_global = {\"red\": 0, \"green\": 0, \"blue\": 0}\n",
        "    df = pd.DataFrame(data=np.zeros((quantity, 3)), columns=['red', 'green', 'blue'])\n",
        "    for i, image in enumerate(Y):\n",
        "        print(f\"[INFO] Image {i+1}/{quantity}\")\n",
        "        colors = count_pixels(image)\n",
        "        for color, value in colors.items():\n",
        "            colors_global[color] += value\n",
        "            df.loc[i][color] = value\n",
        "    print(\"[INFO] Count complete.\")\n",
        "    return colors_global, df\n",
        "\n",
        "def get_dataset_metadata(X, Y):\n",
        "    size = X.shape[0]\n",
        "    height, width = X.shape[1:3]\n",
        "    channels = X.shape[3]\n",
        "    parameters = {\"size\": size,\n",
        "                  \"height\": height,\n",
        "                  \"width\": width,\n",
        "                  \"channels\": channels}\n",
        "    for parameter, value in parameters.items():\n",
        "        print(f\"[INFO] {parameter} => {value}\")\n",
        "\n",
        "def display(X, Y, name):\n",
        "    fig, ax = plt.subplots(ncols=2,\n",
        "                           nrows=X.shape[0],\n",
        "                           figsize=(X.shape[0]*5, X.shape[0]*8),\n",
        "                           sharex=True, sharey=True)\n",
        "    x_ax = []\n",
        "    df_ax = pd.DataFrame.from_records(ax)\n",
        "    # Plot initial images\n",
        "    for i, im in enumerate(X):\n",
        "        df_ax.iloc[i][0].imshow(im)\n",
        "        df_ax.iloc[i][0].set_xticklabels([])\n",
        "        df_ax.iloc[i][0].set_yticklabels([])\n",
        "        if i == 0:\n",
        "            df_ax.iloc[i][0].set_title(f'Satellite Images 512x512 pixels', fontsize=20)\n",
        "    for i, im in enumerate(Y):\n",
        "        df_ax.iloc[i][1].imshow(im)\n",
        "        df_ax.iloc[i][1].set_xticklabels([])\n",
        "        df_ax.iloc[i][1].set_yticklabels([])\n",
        "        if i == 0:\n",
        "            df_ax.iloc[i][1].set_title(f'RGB Segmentation Mask', fontsize=20)\n",
        "\n",
        "    plt.subplots_adjust(wspace=0, hspace=0)\n",
        "    plt.savefig(name)\n",
        "    plt.show()"
      ]
    },
    {
      "cell_type": "code",
      "execution_count": 27,
      "metadata": {
        "id": "NSMt-TGUl9bn",
        "outputId": "879b0c01-5d8e-4be2-ecad-2a2d86d3cfc0",
        "colab": {
          "base_uri": "https://localhost:8080/",
          "height": 304
        }
      },
      "outputs": [
        {
          "output_type": "error",
          "ename": "FileNotFoundError",
          "evalue": "[Errno 2] No such file or directory: '/content/gdrive/MyDrive/Dataset/dataset_08_04_2021/data_shaffled_8_04_2021/masks'",
          "traceback": [
            "\u001b[0;31m---------------------------------------------------------------------------\u001b[0m",
            "\u001b[0;31mFileNotFoundError\u001b[0m                         Traceback (most recent call last)",
            "\u001b[0;32m/tmp/ipython-input-2737814092.py\u001b[0m in \u001b[0;36m<cell line: 0>\u001b[0;34m()\u001b[0m\n\u001b[0;32m----> 1\u001b[0;31m \u001b[0mY\u001b[0m \u001b[0;34m=\u001b[0m \u001b[0mload_test_images\u001b[0m\u001b[0;34m(\u001b[0m\u001b[0;34m\"/content/gdrive/MyDrive/Dataset/dataset_08_04_2021/data_shaffled_8_04_2021/masks\"\u001b[0m\u001b[0;34m)\u001b[0m\u001b[0;34m\u001b[0m\u001b[0;34m\u001b[0m\u001b[0m\n\u001b[0m\u001b[1;32m      2\u001b[0m \u001b[0mX\u001b[0m \u001b[0;34m=\u001b[0m \u001b[0mload_test_images\u001b[0m\u001b[0;34m(\u001b[0m\u001b[0;34m\"/content/gdrive/MyDrive/Dataset/dataset_08_04_2021/data_shaffled_8_04_2021/images\"\u001b[0m\u001b[0;34m)\u001b[0m\u001b[0;34m\u001b[0m\u001b[0;34m\u001b[0m\u001b[0m\n",
            "\u001b[0;32m/tmp/ipython-input-1973574538.py\u001b[0m in \u001b[0;36mload_test_images\u001b[0;34m(path)\u001b[0m\n\u001b[1;32m     14\u001b[0m \u001b[0;34m\u001b[0m\u001b[0m\n\u001b[1;32m     15\u001b[0m \u001b[0;32mdef\u001b[0m \u001b[0mload_test_images\u001b[0m\u001b[0;34m(\u001b[0m\u001b[0mpath\u001b[0m\u001b[0;34m)\u001b[0m\u001b[0;34m:\u001b[0m\u001b[0;34m\u001b[0m\u001b[0;34m\u001b[0m\u001b[0m\n\u001b[0;32m---> 16\u001b[0;31m     \u001b[0mimages\u001b[0m \u001b[0;34m=\u001b[0m \u001b[0mload_raw_images\u001b[0m\u001b[0;34m(\u001b[0m\u001b[0mpath\u001b[0m\u001b[0;34m)\u001b[0m\u001b[0;34m\u001b[0m\u001b[0;34m\u001b[0m\u001b[0m\n\u001b[0m\u001b[1;32m     17\u001b[0m     \u001b[0mnp_images\u001b[0m \u001b[0;34m=\u001b[0m \u001b[0;34m[\u001b[0m\u001b[0;34m]\u001b[0m\u001b[0;34m\u001b[0m\u001b[0;34m\u001b[0m\u001b[0m\n\u001b[1;32m     18\u001b[0m     \u001b[0;32mfor\u001b[0m \u001b[0mimage\u001b[0m \u001b[0;32min\u001b[0m \u001b[0mimages\u001b[0m\u001b[0;34m:\u001b[0m\u001b[0;34m\u001b[0m\u001b[0;34m\u001b[0m\u001b[0m\n",
            "\u001b[0;32m/tmp/ipython-input-1973574538.py\u001b[0m in \u001b[0;36mload_raw_images\u001b[0;34m(y_path)\u001b[0m\n\u001b[1;32m      8\u001b[0m \u001b[0;32mdef\u001b[0m \u001b[0mload_raw_images\u001b[0m\u001b[0;34m(\u001b[0m\u001b[0my_path\u001b[0m\u001b[0;34m)\u001b[0m\u001b[0;34m:\u001b[0m\u001b[0;34m\u001b[0m\u001b[0;34m\u001b[0m\u001b[0m\n\u001b[1;32m      9\u001b[0m     \u001b[0mY\u001b[0m \u001b[0;34m=\u001b[0m \u001b[0;34m[\u001b[0m\u001b[0;34m]\u001b[0m\u001b[0;34m\u001b[0m\u001b[0;34m\u001b[0m\u001b[0m\n\u001b[0;32m---> 10\u001b[0;31m     \u001b[0;32mfor\u001b[0m \u001b[0mfilename\u001b[0m \u001b[0;32min\u001b[0m \u001b[0mos\u001b[0m\u001b[0;34m.\u001b[0m\u001b[0mlistdir\u001b[0m\u001b[0;34m(\u001b[0m\u001b[0my_path\u001b[0m\u001b[0;34m)\u001b[0m\u001b[0;34m:\u001b[0m\u001b[0;34m\u001b[0m\u001b[0;34m\u001b[0m\u001b[0m\n\u001b[0m\u001b[1;32m     11\u001b[0m         \u001b[0;32mif\u001b[0m \u001b[0mfilename\u001b[0m\u001b[0;34m.\u001b[0m\u001b[0mendswith\u001b[0m\u001b[0;34m(\u001b[0m\u001b[0;34m\"png\"\u001b[0m\u001b[0;34m)\u001b[0m\u001b[0;34m:\u001b[0m\u001b[0;34m\u001b[0m\u001b[0;34m\u001b[0m\u001b[0m\n\u001b[1;32m     12\u001b[0m             \u001b[0mY\u001b[0m\u001b[0;34m.\u001b[0m\u001b[0mappend\u001b[0m\u001b[0;34m(\u001b[0m\u001b[0mfilename\u001b[0m\u001b[0;34m)\u001b[0m\u001b[0;34m\u001b[0m\u001b[0;34m\u001b[0m\u001b[0m\n",
            "\u001b[0;31mFileNotFoundError\u001b[0m: [Errno 2] No such file or directory: '/content/gdrive/MyDrive/Dataset/dataset_08_04_2021/data_shaffled_8_04_2021/masks'"
          ]
        }
      ],
      "source": [
        "Y = load_test_images(\"/content/gdrive/MyDrive/Dataset/dataset_08_04_2021/data_shaffled_8_04_2021/masks\")\n",
        "X = load_test_images(\"/content/gdrive/MyDrive/Dataset/dataset_08_04_2021/data_shaffled_8_04_2021/images\")"
      ]
    },
    {
      "cell_type": "code",
      "execution_count": null,
      "metadata": {
        "id": "z3prPm_3mOyN"
      },
      "outputs": [],
      "source": [
        "Y_np = np.array(Y)\n",
        "X_np = np.array(X)"
      ]
    },
    {
      "cell_type": "code",
      "execution_count": null,
      "metadata": {
        "id": "D8yqqxDTnUa9"
      },
      "outputs": [],
      "source": [
        "Y_np.shape"
      ]
    },
    {
      "cell_type": "code",
      "execution_count": null,
      "metadata": {
        "id": "sf_wylABnfqz"
      },
      "outputs": [],
      "source": [
        "# colors, df = get_pixel_data(Y_np[:])"
      ]
    },
    {
      "cell_type": "code",
      "execution_count": null,
      "metadata": {
        "id": "yVtdFV0VklPL"
      },
      "outputs": [],
      "source": [
        "# colors, df = get_pixel_data(Y[:])\n",
        "# {'blue': 9762135, 'green': 65196659, 'red': 9451534}\n",
        "colors, df"
      ]
    },
    {
      "cell_type": "code",
      "execution_count": null,
      "metadata": {
        "id": "Nbyhq3r6zyiH"
      },
      "outputs": [],
      "source": [
        "s = 0\n",
        "for k, v in colors.items():\n",
        "  s += v\n",
        "s - 322*512*512"
      ]
    },
    {
      "cell_type": "code",
      "execution_count": null,
      "metadata": {
        "id": "w24I_lYHklPL"
      },
      "outputs": [],
      "source": [
        "df.to_csv(\"/content/gdrive/MyDrive/Dataset/dataset_08_04_2021/dataframe_322.csv\")"
      ]
    },
    {
      "cell_type": "code",
      "execution_count": null,
      "metadata": {
        "id": "IFRNFHL2klPM"
      },
      "outputs": [],
      "source": [
        "# df.to_csv(\"dataframe_144.csv\")\n",
        "df = pd.read_csv(\"dataframe_balanced_163.csv\")\n",
        "df = df.loc[:][['red', 'green', 'blue']]\n",
        "df"
      ]
    },
    {
      "cell_type": "code",
      "execution_count": null,
      "metadata": {
        "id": "sClXKNUMklPN"
      },
      "outputs": [],
      "source": [
        "#colors          = {'red': 3878379, 'green': 32288939, 'blue': 1581227}\n",
        "colors_balanced = {'red': 5412925, 'green': 34175495, 'blue': 3140800}\n",
        "get_dataset_metadata(X, Y), colors_balanced"
      ]
    },
    {
      "cell_type": "code",
      "execution_count": null,
      "metadata": {
        "id": "xlG-i1f0klPN"
      },
      "outputs": [],
      "source": [
        "start = 58\n",
        "display(X_np[start:start+3], Y_np[start:start+3], name=\"Images_and_masks.png\")"
      ]
    },
    {
      "cell_type": "code",
      "execution_count": null,
      "metadata": {
        "id": "ON5J0mruklPO"
      },
      "outputs": [],
      "source": [
        "from bokeh.io import output_file, show\n",
        "from bokeh.models import ColumnDataSource\n",
        "from bokeh.palettes import Spectral6\n",
        "from bokeh.plotting import figure\n",
        "from bokeh.io import push_notebook, show, output_notebook\n",
        "from bokeh.resources import INLINE\n",
        "from bokeh.io import export_png\n",
        "\n",
        "output_notebook(resources=INLINE)\n",
        "\n",
        "#output_file(\"colormapped_bars.html\")\n",
        "\n",
        "fruits = ['Forest', 'Deforestation', 'Other']\n",
        "counts = [colors['green'], colors['red'], colors['blue']]\n",
        "\n",
        "source = ColumnDataSource(data=dict(fruits=fruits, counts=counts, color=['green', 'red', 'blue']))\n",
        "# y_range = [10 ** 0, 10 ** 3]\n",
        "# y_range=(0, colors['green']+100000)\n",
        "p = figure(x_range=fruits, y_range = [10 ** 0, 10 ** 9], plot_height=550, plot_width=850, title=\"Classes Distribution (log scale)\",\n",
        "           toolbar_location=None, tools=\"\", y_axis_type=\"log\")\n",
        "\n",
        "p.vbar(x='fruits', top='counts', width=0.8, color='color', legend_field=\"fruits\", source=source, bottom=0.1)\n",
        "\n",
        "p.xgrid.grid_line_color = None\n",
        "p.title.text_font_size = '20pt'\n",
        "p.legend.label_text_font_size  = '16pt'\n",
        "p.legend.orientation = \"horizontal\"\n",
        "p.legend.location = \"top_center\"\n",
        "# export_png(p, filename=\"/content/gdrive/MyDrive/Dataset/dataset_08_04_2021/Data_distribution_log.png\")\n",
        "show(p)"
      ]
    },
    {
      "cell_type": "code",
      "execution_count": null,
      "metadata": {
        "id": "CWunREMMklPQ"
      },
      "outputs": [],
      "source": [
        "def display_with_masks(X, Y, name, alpha=0.45):\n",
        "    fig, ax = plt.subplots(ncols=X.shape[0]//2,\n",
        "                           nrows=2,\n",
        "                           figsize=(X.shape[0]*5, X.shape[0]*5),\n",
        "                           sharex=True, sharey=True)\n",
        "    x_ax = []\n",
        "    df_ax = pd.DataFrame.from_records(ax)\n",
        "    # Plot initial images\n",
        "    counter = 0\n",
        "    for j in range(2):\n",
        "        for i in range(X.shape[0]//2):\n",
        "            if i+j == 0:\n",
        "                df_ax.iloc[i][j].set_title(f\"Images merged with masks (alpha={alpha})\", fontsize=20)\n",
        "            im = X[counter] + Y[counter] * alpha\n",
        "            df_ax.iloc[j][i].imshow(im)\n",
        "            df_ax.iloc[j][i].set_xticklabels([])\n",
        "            df_ax.iloc[j][i].set_yticklabels([])\n",
        "            counter += 1\n",
        "\n",
        "    plt.subplots_adjust(wspace=0, hspace=0)\n",
        "    plt.savefig(name)\n",
        "    plt.show()"
      ]
    },
    {
      "cell_type": "code",
      "execution_count": null,
      "metadata": {
        "id": "hBtTSU5rklPS"
      },
      "outputs": [],
      "source": [
        "display_with_masks(X[:4], Y[:4], name=\"Images_merged_masks.png\")"
      ]
    },
    {
      "cell_type": "code",
      "execution_count": null,
      "metadata": {
        "id": "1hTmc7-EklPT"
      },
      "outputs": [],
      "source": [
        "import seaborn as sns\n",
        "\n",
        "sns.set(font_scale=2)\n",
        "plt.figure(figsize=(30, 8))\n",
        "plt.title(\"Boxplot of areas\")\n",
        "sns.set_theme(style=\"whitegrid\")\n",
        "df.columns = [\"Deforestation\", \"Forest\", \"Other\"]\n",
        "box = sns.boxplot(data=df, orient='h', order=[\"Forest\", \"Deforestation\", \"Other\"])\n",
        "\n",
        "forest_box = box.artists[0]\n",
        "forest_box.set_facecolor('green')\n",
        "forest_box.set_label(\"Forest\")\n",
        "deforest_box = box.artists[1]\n",
        "deforest_box.set_facecolor('red')\n",
        "other_box = box.artists[2]\n",
        "other_box.set_facecolor('blue')\n",
        "\n",
        "box.set_xscale(\"log\")\n",
        "plt.savefig(\"/content/gdrive/MyDrive/Dataset/dataset_08_04_2021/Whiskers_area_distribution.png\")\n",
        "plt.show()"
      ]
    },
    {
      "cell_type": "code",
      "execution_count": null,
      "metadata": {
        "id": "yiE6QT-HklPT"
      },
      "outputs": [],
      "source": [
        "import seaborn as sns\n",
        "import matplotlib as mpl\n",
        "\n",
        "font = {'size'   : 22}\n",
        "mpl.rc('font', **font)\n",
        "\n",
        "plt.figure(figsize=(30, 8))\n",
        "plt.title(\"Boxplot of areas\")\n",
        "sns.set_theme(style=\"whitegrid\")\n",
        "df.columns = [\"Deforestation\", \"Forest\", \"Other\"]\n",
        "box = sns.boxplot(data=df, orient='h', order=[\"Forest\", \"Deforestation\", \"Other\"])\n",
        "\n",
        "forest_box = box.artists[0]\n",
        "forest_box.set_facecolor('green')\n",
        "forest_box.set_label(\"Forest\")\n",
        "deforest_box = box.artists[1]\n",
        "deforest_box.set_facecolor('red')\n",
        "other_box = box.artists[2]\n",
        "other_box.set_facecolor('blue')\n",
        "\n",
        "box.set_xscale(\"log\")\n",
        "plt.savefig(\"Whiskers_area_distribution.png\")\n",
        "plt.show()"
      ]
    },
    {
      "cell_type": "code",
      "execution_count": null,
      "metadata": {
        "id": "jVAZWYh-klPU"
      },
      "outputs": [],
      "source": [
        "size=[df[\"Forest\"].sum()//df.shape[0], df[\"Deforestation\"].sum()//df.shape[0], df[\"Other\"].sum()//df.shape[0]]\n",
        "my_sum = sum(size)\n",
        "percents = [str(round((i/my_sum)*100))+\"%\" for i in size]\n",
        "names=[f\"Forest, {percents[0]}\", f\"Deforestation, {percents[1]}\", f\"Other, {percents[2]}\"]\n",
        "\n",
        "plt.figure(figsize=(12, 10))\n",
        "# Create a circle for the center of the plot\n",
        "my_circle=plt.Circle((0,0), 0.7, color='white')\n",
        "\n",
        "# Custom colors --> colors will cycle\n",
        "plt.title(\"Average percentage of class area per image\", fontsize = 20)\n",
        "plt.pie(size, labels=names, colors=['green','red','blue'], textprops={'fontsize': 16})\n",
        "p=plt.gcf()\n",
        "p.gca().add_artist(my_circle)\n",
        "plt.savefig(\"Average_percentage_of_class_area_per_image.png\")\n",
        "plt.show()"
      ]
    },
    {
      "cell_type": "code",
      "execution_count": null,
      "metadata": {
        "id": "aKH3FSIbklPU"
      },
      "outputs": [],
      "source": [
        "size=[df[\"Forest\"].sum()//df.shape[0], df[\"Deforestation\"].sum()//df.shape[0], df[\"Other\"].sum()//df.shape[0]]\n",
        "my_sum = sum(size)\n",
        "percents = [str(round((i/my_sum)*100))+\"%\" for i in size]\n",
        "names=[f\"Forest, {percents[0]}\", f\"Deforestation, {percents[1]}\", f\"Other, {percents[2]}\"]\n",
        "\n",
        "plt.figure(figsize=(12, 10))\n",
        "# Create a circle for the center of the plot\n",
        "my_circle=plt.Circle((0,0), 0.7, color='white')\n",
        "\n",
        "# Custom colors --> colors will cycle\n",
        "plt.title(\"Average percentage of class area per image\", fontsize = 20)\n",
        "plt.pie(size, labels=names, colors=['green','red','blue'], textprops={'fontsize': 16})\n",
        "p=plt.gcf()\n",
        "p.gca().add_artist(my_circle)\n",
        "plt.savefig(\"/content/gdrive/MyDrive/Dataset/dataset_08_04_2021/Average_percentage_of_class_area_per_image.png\")\n",
        "plt.show()"
      ]
    },
    {
      "cell_type": "markdown",
      "metadata": {
        "id": "BvBTguEPklPU"
      },
      "source": [
        "# Model analysis"
      ]
    },
    {
      "cell_type": "code",
      "execution_count": null,
      "metadata": {
        "id": "JsnML3yYklPV"
      },
      "outputs": [],
      "source": [
        "# import tensorflow as tf\n",
        "# from tensorflow.keras.utils import plot_model\n",
        "\n",
        "# config = tf.compat.v1.ConfigProto()\n",
        "# config.gpu_options.allow_growth = True\n",
        "# sess = tf.compat.v1.Session(config=config)\n",
        "\n",
        "import matplotlib.pyplot as plt\n",
        "import numpy as np\n",
        "from numba import cuda\n",
        "import datetime\n",
        "import pandas as pd\n",
        "import seaborn as sns"
      ]
    },
    {
      "cell_type": "code",
      "execution_count": null,
      "metadata": {
        "id": "aoQ6iRYnklPV"
      },
      "outputs": [],
      "source": [
        "# model_categorical = tf.keras.models.load_model(\"model_nd_145_v1.h5\")"
      ]
    },
    {
      "cell_type": "code",
      "execution_count": null,
      "metadata": {
        "id": "vfzjh2eWklPV"
      },
      "outputs": [],
      "source": [
        "# summary_str = model_final.summary()"
      ]
    },
    {
      "cell_type": "code",
      "execution_count": null,
      "metadata": {
        "id": "3phY5b1QklPV"
      },
      "outputs": [],
      "source": [
        "# import json\n",
        "\n",
        "# config_json_dict = model_final.get_config()\n",
        "# config_json_dict\n",
        "# config_json = json.dumps(config_json_dict)\n",
        "# df_config = pd.read_json(config_json)\n",
        "# df_config\n",
        "# config_json\n",
        "# df_res.iloc[-1][-1]\n",
        "# df_res['Rolling']"
      ]
    },
    {
      "cell_type": "code",
      "execution_count": null,
      "metadata": {
        "id": "DGoTV_c83hlT"
      },
      "outputs": [],
      "source": [
        "df_res = pd.read_csv(\"/content/gdrive/MyDrive/Metrics/model_tpu_2048_16_v5/results_model_tpu_2048_16_v5.csv\")\n",
        "df_res = df_res.reset_index(drop=True)\n",
        "df_res['Rolling_F1_Score'] = df_res['test_f1score'].rolling(100).mean()\n",
        "df_res['Rolling_IoU'] = df_res['test_iou'].rolling(100).mean()\n",
        "# df_res.fillna(0, inplace=True)\n",
        "columns = df_res.columns\n",
        "# df_res = df_res.reindex(columns=columns)\n",
        "df_res"
      ]
    },
    {
      "cell_type": "code",
      "execution_count": null,
      "metadata": {
        "id": "KEAMni7K6NyP"
      },
      "outputs": [],
      "source": [
        "fig, ax = plt.subplots(ncols=1,\n",
        "                       nrows=1,\n",
        "                       figsize=(40, 10),\n",
        "                      )\n",
        "df_res.plot(kind='line', y=['test_f1score', 'train_f1score', 'Rolling_F1_Score'], ax=ax, grid=True, linewidth=3)\n",
        "ax.set_title(\"F1_Score\", fontsize=24)\n",
        "ax.legend(prop={'size': 20})\n",
        "plt.xticks(fontsize=16)\n",
        "plt.yticks(fontsize=16)\n",
        "plt.savefig(\"/content/gdrive/MyDrive/Dataset/dataset_08_04_2021/F1_score_v5.png\")\n",
        "plt.show()\n",
        "df_res.iloc[-1][-1]"
      ]
    },
    {
      "cell_type": "code",
      "execution_count": null,
      "metadata": {
        "id": "3PD7r-Es5bLE"
      },
      "outputs": [],
      "source": [
        "fig, ax = plt.subplots(ncols=1,\n",
        "                       nrows=1,\n",
        "                       figsize=(40, 10),\n",
        "                      )\n",
        "df_res.plot(kind='line', y=['train_loss'], ax=ax, grid=True, linewidth=3)\n",
        "ax.set_title(\"Train Loss\", fontsize=24)\n",
        "ax.legend(prop={'size': 20})\n",
        "plt.xticks(fontsize=16)\n",
        "plt.yticks(fontsize=16)\n",
        "plt.savefig(\"/content/gdrive/MyDrive/Dataset/dataset_08_04_2021/Train_loss_v5.png\")\n",
        "plt.show()\n",
        "df_res.iloc[-1][-1]"
      ]
    },
    {
      "cell_type": "code",
      "execution_count": null,
      "metadata": {
        "id": "u6RZTgOPklPW"
      },
      "outputs": [],
      "source": [
        "fig, ax = plt.subplots(ncols=1,\n",
        "                       nrows=1,\n",
        "                       figsize=(40, 10),\n",
        "                      )\n",
        "df_res.plot(kind='line', y=['train_iou', 'test_iou', 'Rolling_IoU'], ax=ax, grid=True, linewidth=3)\n",
        "ax.set_title(\"IoU\", fontsize=24)\n",
        "ax.legend(prop={'size': 20})\n",
        "plt.xticks(fontsize=16)\n",
        "plt.yticks(fontsize=16)\n",
        "plt.savefig(\"/content/gdrive/MyDrive/Dataset/dataset_08_04_2021/IoU_v5.png\")\n",
        "plt.show()\n",
        "df_res.iloc[-1][-1]"
      ]
    },
    {
      "cell_type": "code",
      "execution_count": null,
      "metadata": {
        "id": "5HDgopn-klPW"
      },
      "outputs": [],
      "source": [
        "df_categorical = pd.read_csv(\"backup_csv/New_loss_functions/results_model_one_hot_categorical_crossentropy_v1_u1.csv\", index_col=\"epoch\")\n",
        "df_dice = pd.read_csv(\"backup_csv/New_loss_functions/results_model_one_hot_dice_coef_multilabel_v1_u1.csv\", index_col=\"epoch\")\n",
        "df_tversky = pd.read_csv(\"backup_csv/New_loss_functions/results_model_one_hot_Tvesky_v1_u1.csv\", index_col=\"epoch\")\n",
        "df_hybrid = pd.read_csv(\"backup_csv/New_loss_functions/results_model_one_hot_hybrid_v1_u1.csv\", index_col=\"epoch\")\n",
        "df_hybrid1 = pd.read_csv(\"backup_csv/New_loss_functions/results_model_one_hot_hybrid_v1_u1.csv\", index_col=\"epoch\")\n",
        "df_hybrid2 = pd.read_csv(\"backup_csv/New_loss_functions/results_model_one_hot_hybrid_v2_u1.csv\", index_col=\"epoch\")\n",
        "df_hybrid3 = pd.read_csv(\"backup_csv/New_loss_functions/results_model_one_hot_hybrid_v3_u1.csv\", index_col=\"epoch\")\n",
        "df_hybrid4 = pd.read_csv(\"backup_csv/New_loss_functions/results_model_one_hot_hybrid_v4_u1.csv\", index_col=\"epoch\")\n",
        "df_w = pd.read_csv(\"backup_csv/New_loss_functions/results_model_weighted_v1_u1.csv\", index_col=\"epoch\")\n",
        "df_w2 = pd.read_csv(\"backup_csv/New_loss_functions/results_model_weighted_v1_u2.csv\", index_col=\"epoch\")\n",
        "df_wb1 = pd.read_csv(\"backup_csv/New_loss_functions/results_model_weighted_balanced_v1_u1.csv\", index_col=\"epoch\")\n",
        "\n",
        "\n",
        "dfs = [df_wb1.drop(['f1_m', 'val_f1_m'], axis=1), df_w2, df_hybrid4]\n",
        "df_concat = pd.concat(dfs, axis=1)\n",
        "# df_wb1.loc[:, df_wb1.columns not in ['f1_m', 'val_f1_m']]\n",
        "# df_wb1.drop(['f1_m', 'val_f1_m'], axis=1)\n",
        "df_concat"
      ]
    },
    {
      "cell_type": "code",
      "execution_count": null,
      "metadata": {
        "id": "eqsVGqUeklPX"
      },
      "outputs": [],
      "source": [
        "def plot_csv(dfs, names, metrics, savename):\n",
        "    ncols = 1\n",
        "    columns = dfs[0].columns\n",
        "    print(f\"[INFO] Available columns ({len(columns)}): {columns}.\\n\")\n",
        "    nrows = len(columns)//2\n",
        "    fig, ax = plt.subplots(ncols=ncols,\n",
        "                           nrows=nrows,\n",
        "                           figsize=(30, 30),\n",
        "                           #sharex=True\n",
        "                          )\n",
        "    df_concat = pd.concat(dfs, axis=1)\n",
        "    columns_new = []\n",
        "    columns_grouped = []\n",
        "\n",
        "    for name in names:\n",
        "        for metric in dfs[0].columns:\n",
        "            columns_new.append(f\"{metric}_{name.title()}\")\n",
        "\n",
        "    for i, metric in enumerate(metrics):\n",
        "        metric_columns = [metric, 'val_' + metric]\n",
        "        metric_columns = metric_columns * len(dfs)\n",
        "        new_labels = [label + \"_\" + ending.title() for label, ending in zip(metric_columns, names * len(dfs))]\n",
        "        columns_grouped.append(new_labels)\n",
        "\n",
        "    print(f\"[INFO] Possible columns ({len(columns_new)}): {columns_new}.\\n\")\n",
        "    print(f\"[INFO] Columns grouped ({len(columns_grouped)}): {columns_grouped}.\\n\")\n",
        "\n",
        "    df_concat.columns = columns_new\n",
        "    print(f\"[INFO] New columns ({len(df_concat.columns)}): {df_concat.columns}\\n\")\n",
        "    for i, sublist in enumerate(columns_grouped):\n",
        "        ax[i].set_title(metrics[i].title(), fontsize=24)\n",
        "        ax[i].set_xlim(xmin=0, xmax=100)\n",
        "        #sns.lineplot(data=df_concat[sublist], ax=ax[i])\n",
        "        for column in sublist:\n",
        "#             if \"val\" in column and \"Hybrid\" in column:\n",
        "#                 df_concat.plot(kind='line', y=column, ax=ax[i], grid=True, style='--', linewidth=7, color='lime')\n",
        "            if \"val\" in column:\n",
        "                df_concat.plot(kind='line', y=column, ax=ax[i], grid=True, style='--', linewidth=3)\n",
        "#                 df_concat.plot(kind='line', y=column, ax=ax[i], grid=True, color='red', linewidth=4)\n",
        "            else:\n",
        "                df_concat.plot(kind='line', y=column, ax=ax[i], grid=True)\n",
        "        print(sublist)\n",
        "    if savename:\n",
        "        plt.savefig(\"Different_losses_one_arch.png\", dpi=300)\n",
        "    plt.show()"
      ]
    },
    {
      "cell_type": "code",
      "execution_count": null,
      "metadata": {
        "id": "5iSJUufMklPX"
      },
      "outputs": [],
      "source": [
        "# df_hybrid"
      ]
    },
    {
      "cell_type": "code",
      "execution_count": null,
      "metadata": {
        "id": "2ePw7qJaklPX"
      },
      "outputs": [],
      "source": [
        "import matplotlib as mpl\n",
        "font = {'size'   : 22}\n",
        "\n",
        "mpl.rc('font', **font)\n",
        "\n",
        "plot_csv(dfs, names=[\"weighted_balanced\",\"weighted2\", \"hybrid4\"], metrics=[\"accuracy\" , \"iou\", \"loss\"], savename=None)"
      ]
    },
    {
      "cell_type": "code",
      "execution_count": null,
      "metadata": {
        "id": "xZmPGCXTklPX"
      },
      "outputs": [],
      "source": [
        "# fig, ax = plt.subplots(ncols=1,\n",
        "#                        nrows=3,\n",
        "#                        figsize=(10, 30))\n",
        "# ax[0].set_title(\"Accuracy\", fontsize=24)\n",
        "# ax[1].set_title(\"Loss\", fontsize=24)\n",
        "# ax[2].set_title(\"IoU\", fontsize=24)\n",
        "# lp_acc = sns.lineplot(data=df_res[['accuracy', 'val_accuracy']], ax=ax[0])\n",
        "# lp_loss = sns.lineplot(data=df_res[['loss', 'val_loss']], ax=ax[1])\n",
        "# lp_iou = sns.lineplot(data=df_res[['iou', 'val_iou']], ax=ax[2])\n",
        "# plt.savefig(\"Accuracy_loss_2.png\")\n",
        "# plt.show()"
      ]
    },
    {
      "cell_type": "markdown",
      "metadata": {
        "id": "ppAZT1v2sB2u"
      },
      "source": [
        "### CamVid dataset"
      ]
    },
    {
      "cell_type": "code",
      "execution_count": null,
      "metadata": {
        "id": "2a7Uc4m4klPX"
      },
      "outputs": [],
      "source": [
        "!wget https://github.com/alexgkendall/SegNet-Tutorial/blob/master/CamVid/testannot/0001TP_008790.png"
      ]
    },
    {
      "cell_type": "code",
      "execution_count": null,
      "metadata": {
        "id": "ENqmPWPasH6y"
      },
      "outputs": [],
      "source": [
        "import matplotlib.pyplot as plt\n",
        "from PIL import Image\n",
        "\n",
        "img = Image.open(\"/content/0001TP_008790.png\")\n",
        "plt.imshow(img)\n",
        "plt.show()"
      ]
    },
    {
      "cell_type": "code",
      "execution_count": null,
      "metadata": {
        "id": "vPh52nPzsVrw"
      },
      "outputs": [],
      "source": []
    }
  ],
  "metadata": {
    "colab": {
      "name": "EDA.ipynb",
      "provenance": [],
      "include_colab_link": true
    },
    "kernelspec": {
      "display_name": "Python 3",
      "language": "python",
      "name": "python3"
    },
    "language_info": {
      "codemirror_mode": {
        "name": "ipython",
        "version": 3
      },
      "file_extension": ".py",
      "mimetype": "text/x-python",
      "name": "python",
      "nbconvert_exporter": "python",
      "pygments_lexer": "ipython3",
      "version": "3.8.5"
    }
  },
  "nbformat": 4,
  "nbformat_minor": 0
}